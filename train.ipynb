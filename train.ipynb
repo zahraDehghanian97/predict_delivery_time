{
 "cells": [
  {
   "cell_type": "code",
   "execution_count": null,
   "metadata": {},
   "outputs": [],
   "source": [
    "import csv\n",
    "from datetime import datetime as hamed\n",
    "import datetime\n",
    "\n",
    "import pandas as pd\n",
    "\n",
    "\n",
    "def date_by_adding_business_days(from_date, add_days):\n",
    "    business_days_to_add = add_days\n",
    "    current_date = from_date\n",
    "    while business_days_to_add > 0:\n",
    "        current_date += datetime.timedelta(days=1)\n",
    "        weekday = current_date.weekday()\n",
    "        if weekday >= 5:  # sunday = 6\n",
    "            continue\n",
    "        business_days_to_add -= 1\n",
    "    return current_date\n",
    "\n",
    "\n",
    "df = pd.read_csv(\"./data/quiz.tsv\", sep=\"\\t\")\n",
    "with open('records.tsv', 'w+', newline='') as tsvfile:\n",
    "    writer = csv.writer(tsvfile, delimiter='\\t')\n",
    "    counter = 0\n",
    "    df['declared_handling_days'].fillna(0, inplace=True)\n",
    "    for index, row in df.iterrows():\n",
    "        counter += 1\n",
    "        print(str(counter)+\"   \" + str(row['declared_handling_days']) + \"   \" + str(row['carrier_min_estimate']))\n",
    "        t = hamed.strptime(row['payment_datetime'][:10], '%Y-%m-%d')\n",
    "        delta = int(row['declared_handling_days']) + int(row['carrier_min_estimate'])\n",
    "        writer.writerow([row['record_number'], str(date_by_adding_business_days(t, delta))[:10]])\n",
    "\n",
    "    tsvfile.flush()\n",
    "    tsvfile.close()"
   ]
  }
 ],
 "metadata": {
  "kernelspec": {
   "display_name": "Python 3",
   "language": "python",
   "name": "python3"
  },
  "language_info": {
   "codemirror_mode": {
    "name": "ipython",
    "version": 3
   },
   "file_extension": ".py",
   "mimetype": "text/x-python",
   "name": "python",
   "nbconvert_exporter": "python",
   "pygments_lexer": "ipython3",
   "version": "3.7.3"
  }
 },
 "nbformat": 4,
 "nbformat_minor": 2
}
