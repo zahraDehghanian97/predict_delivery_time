{
 "cells": [
  {
   "cell_type": "code",
   "execution_count": null,
   "metadata": {},
   "outputs": [],
   "source": [
    "import pandas as pd\n",
    "import csv\n",
    "\n",
    "\n",
    "def calculate_delivery_date():\n",
    "    quiz_label = pd.read_csv(\"./output/quiz_result.csv\", header=None).round()[0].to_list()\n",
    "    quiz_data = pd.read_csv(\"./data/quiz.tsv\", sep=\"\\t\")\n",
    "    quiz_data = pd.to_datetime(quiz_data[\"acceptance_scan_timestamp\"].str.slice(0, 10))\n",
    "    out_file = open('./output/output.tsv', 'w+', newline='')\n",
    "    tsv_writer = csv.writer(out_file, delimiter='\\t')\n",
    "\n",
    "    for index, value in quiz_data.items():\n",
    "        tsv_writer.writerow([str(15000001 + index), str(value + pd.Timedelta(days=quiz_label[index]))[:10]])\n",
    "        if index % 100000 == 0:\n",
    "            print(index)\n",
    "    out_file.flush()\n",
    "    out_file.close()"
   ]
  }
 ],
 "metadata": {
  "kernelspec": {
   "display_name": "Python 3",
   "language": "python",
   "name": "python3"
  },
  "language_info": {
   "codemirror_mode": {
    "name": "ipython",
    "version": 3
   },
   "file_extension": ".py",
   "mimetype": "text/x-python",
   "name": "python",
   "nbconvert_exporter": "python",
   "pygments_lexer": "ipython3",
   "version": "3.7.3"
  }
 },
 "nbformat": 4,
 "nbformat_minor": 2
}
