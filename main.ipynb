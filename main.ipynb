{
 "cells": [
  {
   "cell_type": "code",
   "execution_count": 1,
   "metadata": {},
   "outputs": [
    {
     "ename": "ModuleNotFoundError",
     "evalue": "No module named 'xgboost'",
     "traceback": [
      "\u001b[1;31m---------------------------------------------------------------------------\u001b[0m",
      "\u001b[1;31mModuleNotFoundError\u001b[0m                       Traceback (most recent call last)",
      "\u001b[1;32m<ipython-input-1-c05bbe8f4f83>\u001b[0m in \u001b[0;36m<module>\u001b[1;34m\u001b[0m\n\u001b[0;32m      1\u001b[0m \u001b[1;32mimport\u001b[0m \u001b[0mlogging\u001b[0m\u001b[1;33m\u001b[0m\u001b[1;33m\u001b[0m\u001b[0m\n\u001b[0;32m      2\u001b[0m \u001b[1;33m\u001b[0m\u001b[0m\n\u001b[1;32m----> 3\u001b[1;33m \u001b[1;32mimport\u001b[0m \u001b[0mxgboost\u001b[0m\u001b[1;33m\u001b[0m\u001b[1;33m\u001b[0m\u001b[0m\n\u001b[0m\u001b[0;32m      4\u001b[0m \u001b[1;32mimport\u001b[0m \u001b[0mxgboost\u001b[0m \u001b[1;32mas\u001b[0m \u001b[0mxgb\u001b[0m\u001b[1;33m\u001b[0m\u001b[1;33m\u001b[0m\u001b[0m\n\u001b[0;32m      5\u001b[0m \u001b[1;33m\u001b[0m\u001b[0m\n",
      "\u001b[1;31mModuleNotFoundError\u001b[0m: No module named 'xgboost'"
     ],
     "output_type": "error"
    }
   ],
   "source": [
    "import logging\n",
    "\n",
    "import xgboost\n",
    "import xgboost as xgb\n",
    "\n",
    "import numpy as np\n",
    "from keras.losses import MSE, MAE\n",
    "from sklearn.ensemble import GradientBoostingRegressor\n",
    "from sklearn.model_selection import train_test_split\n",
    "from xgboost import XGBRegressor\n",
    "\n",
    "from postprocessing import calculate_delivery_date\n",
    "from preprocessing import preprocess\n",
    "\n",
    "logging.basicConfig(\n",
    "    format='%(asctime)s %(levelname)-8s %(message)s',\n",
    "    level=logging.INFO,\n",
    "    datefmt='%Y-%m-%d %H:%M:%S')\n",
    "\n",
    "X, x_quiz, y = preprocess(\"./data/train_w_zip.tsv\", \"./data/quiz_w_zip.tsv\", False)\n",
    "X = np.asarray(X).astype('float32')\n",
    "x_quiz = np.asarray(x_quiz).astype('float32')\n",
    "\n",
    "train_X, test_X, train_y, test_y = train_test_split(X, y,\n",
    "                                                    test_size=0.001)\n",
    "##### Training Phase ####\n",
    "model = XGBRegressor(n_estimators=1000, max_depth=8, verbosity=2, tree_method='gpu_hist')\n",
    "\n",
    "model.fit(train_X, train_y, eval_set=[(test_X, test_y)],\n",
    "        eval_metric='mae',\n",
    "        verbose=True)\n",
    "pred = model.predict(test_X)\n",
    "pred_test = model.predict(train_X)\n",
    "test_mse = MSE(test_y, pred)\n",
    "test_mae = MAE(test_y, pred)/2\n",
    "print(\"TEST MSE : % f\" %(test_mse))\n",
    "print(\"TEST MAE : % f\" %(test_mae))\n",
    "\n",
    "train_mse = MSE(train_y, pred_test)\n",
    "train_mae = MAE(train_y, pred_test)/2\n",
    "print(\"TRAIN MSE : % f\" %(train_mse))\n",
    "print(\"TRAIN MAE : % f\" %(train_mae))\n",
    "np.savetxt(\"./output/quiz_result.csv\", model.predict(x_quiz), delimiter=\",\")\n",
    "\n",
    "\n",
    "\n",
    "# normalizer = preprocessing.Normalization(axis=-1)\n",
    "# normalizer.adapt(np.array(X))\n",
    "# model = build_and_compile_model(normalizer)\n",
    "# history = train_model(model, X, y)\n",
    "# logging.info(\"start saving result for quiz set\")\n",
    "# np.savetxt(\"./output/quiz_result.csv\", model.predict(x_quiz), delimiter=\",\")\n",
    "#########################\n",
    "\n",
    "\n",
    "calculate_delivery_date()\n",
    "logging.info(\"finished\")\n",
    "\n",
    "# dtrain = xgb.DMatrix(X, label=y)\n",
    "# dtest = xgb.DMatrix(x_quiz)\n",
    "# param = {}\n",
    "# param['tree_method'] = 'gpu_hist'\n",
    "# param['verbosity'] = 2\n",
    "# bst = xgb.train(param, dtrain, verbose_eval=True, num_boost_round=100)\n",
    "# np.savetxt(\"./data/quiz_result.csv\", bst.predict(dtest), delimiter=\",\")"
   ]
  },
  {
   "cell_type": "code",
   "execution_count": null,
   "metadata": {},
   "outputs": [],
   "source": []
  }
 ],
 "metadata": {
  "kernelspec": {
   "display_name": "Python 3",
   "language": "python",
   "name": "python3"
  },
  "language_info": {
   "codemirror_mode": {
    "name": "ipython",
    "version": 3
   },
   "file_extension": ".py",
   "mimetype": "text/x-python",
   "name": "python",
   "nbconvert_exporter": "python",
   "pygments_lexer": "ipython3",
   "version": "3.7.3"
  }
 },
 "nbformat": 4,
 "nbformat_minor": 2
}
